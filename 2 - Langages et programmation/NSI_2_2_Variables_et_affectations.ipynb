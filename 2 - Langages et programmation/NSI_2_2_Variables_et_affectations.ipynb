{
  "cells": [
    {
      "cell_type": "markdown",
      "metadata": {
        "id": "wRulTkFu34l1"
      },
      "source": [
        "# Variables et affectations"
      ]
    },
    {
      "cell_type": "markdown",
      "metadata": {
        "id": "0lQTcG0134l3"
      },
      "source": [
        "## Qu'est-ce qu'une variable ?"
      ]
    },
    {
      "cell_type": "markdown",
      "metadata": {
        "id": "TFSpkj8_34l3"
      },
      "source": [
        "Dans un programme informatique, on va avoir besoin de **stocker provisoirement des valeurs**. Il peut s’agir de données issues du disque dur, fournies par l’utilisateur (saisies au clavier), de résultats obtenus par le programme,...\n",
        "\n",
        "Ces données peuvent être de plusieurs **types** : elles peuvent être des nombres, du texte, etc.\n",
        "\n",
        "Pour employer une image, une variable est une boîte, que le programme va repérer par une étiquette (le nom de la variable, appelé __identificateur__). Pour avoir accès au contenu de la boîte, il suffit de la désigner par son étiquette.\n",
        "\n",
        "![illustration naïve du concept de variable](https://github.com/proflgSTAN/NSI_1ere/blob/master/2%20-%20Langages%20et%20programmation/boite_a_nombres.png?raw=1)\n",
        "\n",
        "> On résume le concept de variable ainsi :  \n",
        "> La **variable** ci-dessus a pour **identificateur** `x` (*l'étiquette* de la boîte) et pour **valeur** l'**objet** `5`, de **type** `int`.  \n",
        "> Attention, le vocabulaire noté en gras est à retenir impérativement"
      ]
    },
    {
      "cell_type": "markdown",
      "metadata": {
        "id": "XDGU1mbe34l3"
      },
      "source": [
        "## Comment est stockée une variable ?\n",
        "En réalité, dans la mémoire vive de l’ordinateur, il n’y a bien sûr pas une vraie boîte, et pas davantage de vraie étiquette collée dessus (j’avais bien prévenu que la boîte et l’étiquette, c’était une image). Dans l’ordinateur, physiquement, il y a **un emplacement de mémoire, repéré par une adresse binaire**.\n",
        "\n",
        "Si on programmait dans un langage directement compréhensible par la machine, on devrait désigner nos données par des nombres binaires 0010 (souvent écrit en héxadécimal 0002) ou encore 10011011.\n",
        "\n",
        "![illustration plus réaliste du concept de variable](https://github.com/proflgSTAN/NSI_1ere/blob/master/2%20-%20Langages%20et%20programmation/variable_memoire.png?raw=1)\n",
        "\n",
        "Ci-dessus, la variable nommée x fait référence à l'emplacement de mémoire dont l'adresse en hexadécimal est 0002. Cet emplacement mémoire stocke le nombre 5.\n",
        "\n",
        "**Lors d'une affectation, on associe donc l'identificateur à une adresse mémoire, pas directement à une valeur**.\n",
        "\n",
        "Mauvaise nouvelle : de tels langages existent ! Ils portent le nom d’**assembleur**.  \n",
        "Bonne nouvelle : ce ne sont pas les seuls langages disponibles.\n",
        "\n",
        "Les langages informatiques plus évolués (que l'on désigne par le terme **\"langage de haut niveau\"**, par opposition au langage assembleur, désigné par le terme **\"langage de bas niveau\"**) se chargent précisément, entre autres rôles, d’épargner au programmeur la gestion fastidieuse des emplacements mémoire et de leurs adresses. Et, comme vous l'avez compris, **il est beaucoup plus facile d’employer les identificateurs de son choix, que de devoir manier des adresses binaires**."
      ]
    },
    {
      "cell_type": "markdown",
      "metadata": {
        "id": "75g5qj_G34l3"
      },
      "source": [
        "## Identifiant d'un objet\n",
        "\n",
        "- à chaque objet correspond un identifiant (à ne pas confondre avec l'identificateur) : un numéro qui identifie une case mémoire.\n",
        "- en Python, il est possible de connaître avec l'instruction `id`  \n",
        "- tester le code suivant en comparant le résultat avec celui obtenu par votre voisin."
      ]
    },
    {
      "cell_type": "code",
      "execution_count": null,
      "metadata": {
        "id": "IwMRj5HV34l4"
      },
      "outputs": [],
      "source": [
        "bateau = 'voilier'\n",
        "id(bateau)"
      ]
    },
    {
      "cell_type": "code",
      "execution_count": null,
      "metadata": {
        "id": "roIv3NEw34l4"
      },
      "outputs": [],
      "source": [
        "id('voilier')"
      ]
    },
    {
      "cell_type": "code",
      "execution_count": null,
      "metadata": {
        "id": "rOgEaQ6s34l4"
      },
      "outputs": [],
      "source": [
        "second_bateau = bateau\n",
        "id(second_bateau)"
      ]
    },
    {
      "cell_type": "code",
      "execution_count": null,
      "metadata": {
        "id": "BiyKUxjP34l4"
      },
      "outputs": [],
      "source": [
        "# Ce que l'on peut vérifier avec le test suivant :\n",
        "id(bateau) == id(second_bateau) == id('voilier')"
      ]
    },
    {
      "cell_type": "markdown",
      "metadata": {
        "id": "YOfzcr9s34l5"
      },
      "source": [
        "> **Commentaires :**"
      ]
    },
    {
      "cell_type": "markdown",
      "metadata": {
        "id": "BmC9xznB34l5"
      },
      "source": [
        "## L'affectation\n",
        "\n",
        "__L'affectation permet de faire le lien entre une valeur (ou un ensemble de valeurs) et une variable__ (désignée par son symbole, son nom, son identificateur, ces trois termes étant équivalents).\n",
        "\n",
        "> **Remarque :** on utilise souvent le terme variable pour désigner en fait l'identificateur de la variable (son nom). Cette petite imprécision ne porte pas à conséquence si on a compris le concept de variable.\n",
        "\n",
        "On le verra plus en détail dans un prochain notebook, mais les **algorithmes** s'écrivent le plus souvent en **pseudo-code**. Le pseudo-code est un langage pour exprimer clairement et formellement un algorithme. Il n'y a pas de standard normalisé pour le pseudo-code, mais seulement des conventions partagées par un plus grand nombre de programmeurs.\n",
        "\n",
        "En pseudo-code, l'instruction d'affectation se note avec la flèche orientée vers la gauche ←\n",
        "\n",
        "> **Exemple :**  \n",
        "```\n",
        "toto ← 40  \n",
        "```\n",
        "\n",
        "Ci-dessus, on __attribue__ la __valeur__ 40 à la __variable__ ayant pour __identificateur__ toto.\n",
        "\n",
        "Avec Python, l'instruction d'affectation se fait à l'aide du symbole `=`\n",
        "\n",
        "> **Exemple :**  \n",
        "```python\n",
        "toto = 40  \n",
        "```\n",
        "\n",
        "L'interpréteur Python exécute les actions suivantes :\n",
        "\n",
        "- il définit un identificateur `toto` comme une nouvelle variable,\n",
        "- il réserve un espace mémoire pour cette variable,\n",
        "- il associe à cette variable un objet numérique dont la valeur est `40`\n",
        "- `toto` est dès lors une variable de type entier.\n",
        "\n",
        "Ainsi, en python, **on peut interpréter `toto = 40` comme : \"toto est lié à un objet de type int dont la valeur est 40\"**."
      ]
    },
    {
      "cell_type": "markdown",
      "metadata": {
        "id": "MsmlODd534l5"
      },
      "source": [
        "## L'affectation multiple (approfondissement)\n",
        "\n",
        "L'affectation multiple n'est pas au programme de 1ère NSI mais elle est bien pratique et très simple d'utilisation. Alors pourquoi s'en priver ?\n",
        "\n",
        "On peut affecter plusieurs variables en une seule ligne, à condition de séparer ces variables et leurs valeurs par une virgule."
      ]
    },
    {
      "cell_type": "code",
      "execution_count": null,
      "metadata": {
        "id": "1CXU8t2b34l5"
      },
      "outputs": [],
      "source": [
        "nb1, nb2 = 5, 7\n",
        "print('nb1 a pour valeur :', nb1)\n",
        "print('nb2 a pour valeur :', nb2)"
      ]
    },
    {
      "cell_type": "markdown",
      "metadata": {
        "id": "SqkMvhi434l5"
      },
      "source": [
        "Lorsque l'on veut échanger les valeurs de deux variables, on peut classiquement créer un troisième variable temporaire (ex : `nb_temp`), le temps de l'échange."
      ]
    },
    {
      "cell_type": "code",
      "execution_count": null,
      "metadata": {
        "id": "yZcgtWTA34l5"
      },
      "outputs": [],
      "source": [
        "nb_temp = nb1\n",
        "nb1 = nb2\n",
        "nb2 = nb_temp\n",
        "print('nb1 a pour valeur :', nb1)\n",
        "print('nb2 a pour valeur :', nb2)"
      ]
    },
    {
      "cell_type": "markdown",
      "metadata": {
        "id": "SC5ur1Qb34l5"
      },
      "source": [
        "L'affectation multiple permet de simplifier notablement cette opération fort courante en programmation..."
      ]
    },
    {
      "cell_type": "code",
      "execution_count": null,
      "metadata": {
        "id": "6bjGHQEJ34l5"
      },
      "outputs": [],
      "source": [
        "nb1, nb2 = nb2, nb1\n",
        "print('nb1 a pour valeur :', nb1)\n",
        "print('nb2 a pour valeur :', nb2)"
      ]
    },
    {
      "cell_type": "markdown",
      "metadata": {
        "id": "KCiZ-2V634l5"
      },
      "source": [
        "## La gestion mémoire lors d'une affectation\n",
        "\n",
        "Interpréter maintenant le code suivant pour mieux comprendre la gestion de la mémoire faite par Python..."
      ]
    },
    {
      "cell_type": "code",
      "execution_count": null,
      "metadata": {
        "scrolled": true,
        "id": "8_pjeSTe34l6"
      },
      "outputs": [],
      "source": [
        "print(\"On rappelle que la variable bateau contient la valeur :\", bateau)\n",
        "\n",
        "second_bateau = 'voilier' + ' bleu'\n",
        "\n",
        "print(\"\\nLa variable second_bateau contient maintenant la valeur :\", second_bateau)\n",
        "\n",
        "print(\"\\nL'identifiant de la variable bateau est :\", id(bateau))\n",
        "print(\"L'identifiant de l'objet 'voilier' est :\", id('voilier'))\n",
        "print(\"L'identifiant de la variable second_bateau est :\", id(second_bateau))\n",
        "print(\"L'identifiant de l'objet 'voilier bleu' est :\", id('voilier bleu'))\n",
        "print('\\n-----------------------------BILAN---------------------------')\n",
        "\n",
        "print(\"La variable bateau a pour valeur 'voilier' :\",\n",
        "      bateau == 'voilier')\n",
        "print(\"La variable second_bateau a pour valeur 'voilier bleu' :\",\n",
        "      second_bateau == 'voilier bleu')\n",
        "print('La variable bateau pointe vers la même valeur que la variable second_bateau :',\n",
        "      id(bateau) == id(second_bateau))\n",
        "print('\\nMais... il y a une petite subtilité...')\n",
        "print(\"La variable second_bateau pointe vers le même objet que valeur 'voilier bleu' :\",\n",
        "      second_bateau is 'voilier bleu')\n",
        "print('Ce dernier point est très délicat et ne sera pas développé dans ce cours')"
      ]
    },
    {
      "cell_type": "markdown",
      "metadata": {
        "id": "0yIH_Z_o34l6"
      },
      "source": [
        "> **Commentaires :**"
      ]
    },
    {
      "cell_type": "markdown",
      "metadata": {
        "id": "OUjhZTJ634l6"
      },
      "source": [
        "[En Python, les objets de type string sont **immuable**](https://fr.wikipedia.org/wiki/Objet_immuable#Python). Cela signifie que vous ne pouvez rien changer dedans. Tout ce que vous pouvez faire, c’est réaffecter les variables à un nouvel objet crée (à une autre string... ou à n’importe quoi d'autre).\n",
        "\n",
        "Dans cet exemple, la réaffectation de `second_bateau` l’a fait pointer sur une autre zone de la mémoire : un autre objet a été crée (`'voilier bleu'`) et la variable `second_bateau` pointe maintenant vers ce nouvel objet.\n",
        "\n",
        "La variable `bateau` n’a pas changé, ni son pointage, ni le contenu de ce qui est pointé (l'objet `voilier` existe donc toujours).\n",
        "\n",
        "Les schémas suivants, obtenus avec l'excellent outil en ligne gratuit **[Python tutor](http://pythontutor.com/visualize.html#mode=edit)**, peuvent sans doute vous aider à mieux comprendre ce qui s'est passé :\n",
        "\n",
        "![python_tutor](https://github.com/proflgSTAN/NSI_1ere/blob/master/2%20-%20Langages%20et%20programmation/python_tutor_1.png?raw=1)\n",
        "\n",
        "![python_tutor](https://github.com/proflgSTAN/NSI_1ere/blob/master/2%20-%20Langages%20et%20programmation/python_tutor_2.png?raw=1)\n",
        "\n",
        "![python_tutor](https://github.com/proflgSTAN/NSI_1ere/blob/master/2%20-%20Langages%20et%20programmation/python_tutor_3.png?raw=1)\n",
        "\n",
        "> **Remarques :**\n",
        "- le code situé à gauche est interprété ligne par ligne (au niveau de la flèche verte)\n",
        "- on voit à droite les identificateurs des variables pointer vers leurs objets"
      ]
    },
    {
      "cell_type": "markdown",
      "metadata": {
        "id": "1bRWLb-I34l6"
      },
      "source": [
        "## Les différents types de variables\n",
        "\n",
        "On rappelle les **types principaux** que nous utiliserons cette année :\n",
        "* les **entiers** : type `int`;\n",
        "* les **flottants** (approximation des nombres réels par des décimaux) : type `float`;\n",
        "* les **booléens** (`True` ou `False`) : type `bool`;\n",
        "* les **listes** (un certain type de tableau), que l'on verra ultérieurement : type `list`;\n",
        "* les **chaines de caractères** (mots, phrases), qui sont des listes de lettres : type `str`.\n",
        "\n",
        "Dans ces premiers exemples, à l'exception des listes, tous ces types sont immuables.\n",
        "\n",
        "Il existe d'autres types de variables. Par exemple :\n",
        "- les **tuples**, qui sont des listes immuables (type `tuple`).\n",
        "- les **dictionnaires**, qui sont des sortes de tableaux non indicés, mutables, dans lesquels on retrouve les valeurs à l'aide de clés et non pas avec des indices (type `dict`).\n",
        "\n",
        "Pour résumer, **le seul type \"mutable\" (et non pas muable) vu à cette étape de l'année est la liste (type `list`)**.\n",
        "\n",
        "## Typage statique\n",
        "\n",
        "Le fait de déclarer le type de la variable n'est pas une obligation mais, comme vous le verrez sans doute, de nombreux langages de programmation nécessitent un typage strict (**typage statique**) qui nécessite une déclaration (C, Java,...). C'est à dire qu'avant d'utiliser une variable on doit nécessairement préciser le type de cette variable (on appelle cette étape la **déclaration de variable**.\n",
        "\n",
        "## Typage dynamique\n",
        "\n",
        "Le langage Python est auto-typé, c'est-à-dire que le typage se fait lors de l'affectation. On dit que le langage **Python utilise un [typage dynamique](https://fr.wikipedia.org/wiki/Typage_dynamique)**.\n",
        "\n",
        "En Python, on peut donc réaffecter une valeur d'un autre type à une variable."
      ]
    },
    {
      "cell_type": "markdown",
      "metadata": {
        "id": "PFsiTRBv34l6"
      },
      "source": [
        "> **Pour aller plus loin :** un prochain notebook détaillera certaines subtilités liées à cette gestion de la mémoire par Python, tout particulièrement lors de la copie de variables."
      ]
    },
    {
      "cell_type": "markdown",
      "metadata": {
        "id": "OiQubPqF34l6"
      },
      "source": [
        "## Que retenir ?\n",
        "### À minima...\n",
        "\n",
        "- Une variable possède un identificateur (son nom) et a pour valeur un objet, d'un type bien défini.\n",
        "- Il existe différents types de variables : les entiers, les flottants, les booléens, les caractères, les chaînes de caractères, les listes,...\n",
        "- Certains objets numériques sont dits mutables, c'est à dire qu'on peut changer leur valeur. D'autres objets sont immuables, on ne peut pas changer leurs valeurs (ex : int, float, str, bool,...).\n",
        "- L'affectation permet de faire le lien entre une valeur et une variable.\n",
        "- Les algorithmes s'écrivent le plus souvent en pseudo-code. Le pseudo-code est un langage pour exprimer clairement et formellement un algorithme.\n",
        "\n",
        "### Au mieux...\n",
        "\n",
        "- Lors d'une affectation, on associe l'identificateur d'une variable à une adresse mémoire, pas directement à une valeur. C'est à cette adresse mémoire qu'est stockée la valeur.\n",
        "- Un langage de bas niveau est difficile à manipuler mais plus performant car il est proche du langage machine.\n",
        "- Un langage de haut niveau est plus facile à manipuler car il utilise une syntaxe proche du langage humain. Ce confort a pour revers une moindre performance.\n",
        "- À chaque objet correspond un identifiant (à ne pas confondre avec l'identificateur) : un numéro qui identifie une case mémoire.\n",
        "- Lorsqu'on veut changer la valeur d'une variable ayant pour valeur un objet immuable, on crée un nouvel objet vers lequel la variable va pointer.\n",
        "- Contrairement à d'autres, le langage Python est auto-typé, c'est-à-dire que le typage se fait lors de l'affectation.\n",
        "- Certains langages de programmation sont très stricts sur le typage (typage statique) alors que d'autres, comme Python sont plus souples (typage dynamique)."
      ]
    },
    {
      "cell_type": "markdown",
      "metadata": {
        "id": "UtYVDDMd34l6"
      },
      "source": [
        "---\n",
        "[![Licence CC BY NC SA](https://licensebuttons.net/l/by-nc-sa/3.0/88x31.png \"licence Creative Commons CC BY-NC-SA\")](http://creativecommons.org/licenses/by-nc-sa/3.0/fr/)\n",
        "<p style=\"text-align: center;\">Auteur : David Landry, Lycée Clemenceau - Nantes</p>\n",
        "<p style=\"text-align: center;\">D'après des documents partagés par...</p>\n",
        "<p style=\"text-align: center;\"><a  href=http://www.monlyceenumerique.fr/index_nsi.html#premiere>Jean-Christophe Gérard, Thomas Lourdet, Johan Monteillet, Pascal Thérèse</a></p>\n",
        "<p style=\"text-align: center;\"><a  href=https://www.lecluse.fr/>Olivier Lecluse</a></p>"
      ]
    }
  ],
  "metadata": {
    "kernelspec": {
      "display_name": "Python 3",
      "language": "python",
      "name": "python3"
    },
    "language_info": {
      "codemirror_mode": {
        "name": "ipython",
        "version": 3
      },
      "file_extension": ".py",
      "mimetype": "text/x-python",
      "name": "python",
      "nbconvert_exporter": "python",
      "pygments_lexer": "ipython3",
      "version": "3.8.3"
    },
    "colab": {
      "provenance": []
    }
  },
  "nbformat": 4,
  "nbformat_minor": 0
}