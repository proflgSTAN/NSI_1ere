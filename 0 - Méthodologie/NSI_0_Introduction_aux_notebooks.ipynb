{
  "cells": [
    {
      "cell_type": "markdown",
      "metadata": {
        "collapsed": true,
        "id": "A-KJtEcha0Co"
      },
      "source": [
        "[Commentaire 1]: <> (Cours sous licence CC SA BY NC, de Antoine Le Gouëfflec. Ce document est basé sur le cours de David Landry, basé sur celui de Frédéric Mandon, lui-même sous licence CC SA BY NC)\n",
        "\n",
        "# Découverte du notebook Jupyter\n",
        "\n",
        "Cette année, de nombreux cours seront associés à des activités pratiques et surrtout __interactives__.\n",
        "Pour ce faire, nous utiliserons des \"__notebooks Jupyter__\" qui sont très adaptés à ce mode d'enseignement.\n",
        "\n",
        "> __Remarque :__ Vous les trouverez sur la page __\"Ressources\"__ du bloc note de classe (__One Note__).\n",
        "Il s'agit de fichiers avec l'extension __.ipynb__ et ils y seront déposés au fur et à mesure de l'année.\n",
        "\n",
        "</Br>\n",
        "</Br>\n",
        "\n",
        "\n",
        "## La Sauvegarde de son Travail : Crtl+S\n",
        "\n",
        "Le fichier que vous venez d'ouvrir, __\"Introduction_aux_notebooks\"__ est le premier de l'année.\n",
        "\n",
        "Faites-en une __sauvegarde__ dès maintenant pour conserver votre travail à long terme. Deux solutions :\n",
        "\n",
        "- la plus rapide : __Ctrl+S__\n",
        "- en utilisant la souris : un clic sur l'icone de gauche, en forme de disquette.\n",
        "\n",
        "Pensez à __organiser vos documents de façon structurée__.\n",
        "Par exemple, en conservant vos notebooks dans un dossier __NSI/Notebooks__, ou bien __NSI_Jupyter__ ou encore __NSI/nsi-master__.\n",
        "\n",
        "</Br>\n",
        "</Br>\n",
        "\n",
        "## Structure d'un notebook\n",
        "\n",
        "Les notebooks comprennent deux types de cellules :\n",
        "\n",
        "* les cellules de texte (comme celle-ci), au format [Markdown](https://fr.wikipedia.org/wiki/Markdown)\n",
        "* les cellules de code (repérables par le compteur `Entrée [ ]`)\n",
        "\n",
        "Dans ces cellules de code, on peut entrer des instructions (ici, des instructions Python 3).\n",
        "\n",
        "> **Les instructions Python peuvent être interprétées** par une combinaison de touches :\n",
        "- **ctrl + entrée** (dans ce cas on reste dans la cellule courante).\n",
        "- **maj + entrée** (dans ce cas on passe à la cellule suivante, après exécution du code).\n",
        "- après exécution, le compteur est incrémenté (ex : `Entrée [1]`) et le résultat d'un programme est précédé de `Out[1]`.\n",
        "\n",
        "</Br>\n",
        "</Br>\n",
        "\n",
        "## Crash test\n",
        "\n",
        "Il est possible qu'un notebook ne réponde plus lors de la tentative d'éxécution d'une instruction ou d'un programme. C'est notamment le cas lorsqu'un programme précédent à planté. **Pensez à sauvegarder votre travail très régulièrement (Ctrl+S)**.\n",
        "\n",
        "> En cas de plantage, au moins deux possibiltés s'offent à vous pour **relancer le notebook** :\n",
        "- cliquer sur le bouton \"Redémarrer le noyau\" puis sur \"Relancer\".\n",
        "- attendre que le noyau soit à nouveau prêt (affichage furtif sur fond bleu, en haut à droite de la fenêtre).\n",
        "- ou bien, si cela ne suffit pas, fermer le navigateur et le terminal de Jupyter. Ensuite, redémarrer Jupyter puis le notebook comme vous l'avez fait initialement.\n",
        "\n",
        "</Br>\n",
        "</Br>"
      ]
    },
    {
      "cell_type": "markdown",
      "metadata": {
        "id": "IUwGQsjDa0Cq"
      },
      "source": [
        "# Fonctionnement du notebook : opérations de base\n",
        "\n",
        "Ce qui est intéressant avec les notebooks, c'est qu'ils sont __interactifs__ et __évolutifs__ : on peut les ré-écrire à l'infini, très facilement.\n",
        "\n",
        "Testez les opérations usuelles (`+ - * /`) dans la cellule de code suivante."
      ]
    },
    {
      "cell_type": "code",
      "execution_count": null,
      "metadata": {
        "id": "aPvn7L_Ta0Cr"
      },
      "outputs": [],
      "source": [
        "5 + 7"
      ]
    },
    {
      "cell_type": "markdown",
      "metadata": {
        "id": "cK8BNqbpa0Cr"
      },
      "source": [
        "> **Remarque :**\n",
        "Chaque fois que le code est executé, le compteur `Entrée [1]` est incrémenté, ce qui permet de vérifier dans quel ordre on a éxecuté les cellules de code.\n",
        "\n",
        "Si vous éxecutez une seconde fois la même cellule, vous constaterez que le numéro de compteur augmente bien.\n",
        "\n",
        "Testez maintenant les priorités d'opérateurs et les parenthèses :"
      ]
    },
    {
      "cell_type": "code",
      "execution_count": null,
      "metadata": {
        "id": "ssRG7IDva0Cr"
      },
      "outputs": [],
      "source": [
        "7 + 4 * 3"
      ]
    },
    {
      "cell_type": "code",
      "execution_count": null,
      "metadata": {
        "id": "vyR2zHfca0Cr"
      },
      "outputs": [],
      "source": [
        "(7 + 4) * 5"
      ]
    },
    {
      "cell_type": "markdown",
      "metadata": {
        "id": "GVWNgYkna0Cs"
      },
      "source": [
        "> **Bonne pratique de programmation (à compléter) :**"
      ]
    },
    {
      "cell_type": "markdown",
      "metadata": {
        "id": "3AYBjheWa0Cs"
      },
      "source": [
        "Enfin, testez les opérateurs suivants `//  %  **` avec des valeurs numériques variées. A quoi servent ces opérateurs d'après vous ?"
      ]
    },
    {
      "cell_type": "code",
      "execution_count": null,
      "metadata": {
        "id": "k2-8QRDta0Cs"
      },
      "outputs": [],
      "source": []
    },
    {
      "cell_type": "markdown",
      "metadata": {
        "id": "A011p-jba0Cs"
      },
      "source": [
        "# Ce notebook vous servira de support de cours !\n",
        "\n",
        "Vous devez y ajouter librement toutes les remarques, commentaires qui pourraient vous être utiles lors de vos révisions. Vous pourrez même en profiter pour corriger mes fôtes !\n",
        "\n",
        "> **A chaque fin d'activité, les notebooks doivent donc être sauvegardés sur le réseau pédagogique du lycée, mais aussi mis à disposition pour votre travail personnel (Clé USB, e-lyco, Gitlab,...).**\n",
        "\n",
        "Si vous le souhaitez, vous pourrez aussi l'imprimer pour faciliter vos révisions.\n",
        "\n",
        "</Br>\n",
        "</Br>\n",
        "\n",
        "## On reprend l'activité, en ajoutant des commentaires\n",
        "\n",
        "Pour commencer, vous devez insérer une cellule texte sous celle-ci et y noter les effets des instructions testées précédemment : `//  %  **`.\n",
        "\n",
        "> **Remarques :**\n",
        "- pour créer une nouvelle cellule sous la cellule active, on peut utiliser le raccourci clavier `B` (à tester de suite !).\n",
        "- c'est l'occasion pour vous de jeter un coup d'oeil aux raccourcis clavier (Menu \"Aide\") et de retenir ceux qui vous semblent les plus utiles.\n",
        "\n",
        "</Br>\n",
        "</Br>"
      ]
    },
    {
      "cell_type": "markdown",
      "metadata": {
        "id": "QJKcSE8da0Cs"
      },
      "source": [
        "# Variables et affectations\n",
        "\n",
        "Avant de décrire plus précisément le concept de variable dans un prochain notebook, on peut simplifier en disant qu'une **variable** est un symbole qui permet de **nommer** une **valeur** (un nombre, du texte, une liste de courses,...)\n",
        "\n",
        "**La variable fait donc lien entre un nom (identificateur) et une valeur stockée en mémoire**.\n",
        "\n",
        "On **affecte** une valeur à une variable avec l'instruction Python `=`.\n",
        "\n",
        "> **Remarque :**\n",
        "Avec Python, on affiche une variable avec l'instruction `print(nom_de_variable)`: c'est ce que l'on appelle une instruction de sortie (output).\n"
      ]
    },
    {
      "cell_type": "code",
      "execution_count": null,
      "metadata": {
        "id": "Gd-QUSqDa0Cs"
      },
      "outputs": [],
      "source": [
        "a = 2\n",
        "print(a)"
      ]
    },
    {
      "cell_type": "markdown",
      "metadata": {
        "id": "Rg1CuCqca0Cs"
      },
      "source": [
        "> **Remarque :**\n",
        "- Le symbole `=` n'a pas du tout la même signification qu'en mathématiques.\n",
        "- L'équation : `a = a + 1` n'a pas de solution en mathématiques\n",
        "\n",
        "... et pourtant, l'instruction suivante fonctionne :"
      ]
    },
    {
      "cell_type": "code",
      "execution_count": null,
      "metadata": {
        "id": "FuMVGoH2a0Cs"
      },
      "outputs": [],
      "source": [
        "a = 5\n",
        "a = a + 1\n",
        "print(a)"
      ]
    },
    {
      "cell_type": "markdown",
      "metadata": {
        "id": "iMsA2Zb5a0Cs"
      },
      "source": [
        "On peut __affecter__ une *expression* à une variable:"
      ]
    },
    {
      "cell_type": "code",
      "execution_count": null,
      "metadata": {
        "id": "draOg6aba0Ct"
      },
      "outputs": [],
      "source": [
        "b = 5\n",
        "c = 2 * a + b ** 2\n",
        "print(c)"
      ]
    },
    {
      "cell_type": "markdown",
      "metadata": {
        "id": "vlXbUqyBa0Ct"
      },
      "source": [
        "> **Remarques :**\n",
        "- vous constaterez que la variable *a* est restée définie d'une cellule du notebook à l'autre.\n",
        "- un notebook conserve en mémoire toutes les objets crées au fur et à mesure de l'exécution des cellules de code."
      ]
    },
    {
      "cell_type": "markdown",
      "metadata": {
        "id": "pWuiTdnQa0Ct"
      },
      "source": [
        "Une **instruction d'entrée** est `input()`.\n",
        "\n",
        "Ci-dessous, on affecte l'entrée utilisateur à la variable *prenom*."
      ]
    },
    {
      "cell_type": "code",
      "execution_count": null,
      "metadata": {
        "id": "Vgc9G2Vpa0Ct"
      },
      "outputs": [],
      "source": [
        "prenom = input(\"Donnez votre prénom : \")\n",
        "print(\"Bonjour\", prenom)"
      ]
    },
    {
      "cell_type": "markdown",
      "metadata": {
        "id": "3QY0r7yza0Ct"
      },
      "source": [
        "> **Remarque :**\n",
        "- il n'y a pas d'accent ni de majuscule à la variable *prenom*. Ce n'est pas un hasard, cela fait partie des **bonnes pratiques** des développeurs informatiques. Ces bonnes pratiques sont définies par la norme [PEP-8](https://www.python.org/dev/peps/pep-0008/).\n",
        "- une version résumée en français sera sans doute plus digeste : [sametmax.com](https://sametmax2.com/le-pep8-en-resume/)"
      ]
    },
    {
      "cell_type": "markdown",
      "metadata": {
        "id": "n4KPVRSea0Ct"
      },
      "source": [
        "Qu'est censé faire le code suivant ?\n",
        "\n",
        "Lisez-le, simulez mentalement une exécution du code puis vérifier votre hypothèse."
      ]
    },
    {
      "cell_type": "code",
      "execution_count": null,
      "metadata": {
        "id": "xRRXAZiha0Ct"
      },
      "outputs": [],
      "source": [
        "a = input(\"Saisir un nombre : \")\n",
        "print(3 * a)"
      ]
    },
    {
      "cell_type": "markdown",
      "source": [
        "</Br>\n",
        "</Br>\n"
      ],
      "metadata": {
        "id": "9hN6sVoZfjWv"
      }
    },
    {
      "cell_type": "markdown",
      "metadata": {
        "id": "9SBUNc56a0Ct"
      },
      "source": [
        "## Typage des données\n",
        "\n",
        "Comme vous venez de le voir, le résultat du programme précédent n'est probablement pas celui attendu. Les données et les variables sont __typées__ dans un langage de programmation, c'est-à-dire que l'on doit préciser si ce sont des nombres, du texte, etc...\n",
        "\n",
        "En python le typage est très souple, ce qui facilite l'écriture des programmes lorsque l'on débute. Néanmoins, il est parfois nécessaire de le préciser.\n",
        "\n",
        "> **Remarque :**\n",
        "L'instruction `type(variable)` permet de savoir quel est le type d'une variable.\n",
        "\n",
        "Executez les cellules de code suivantes et concluez."
      ]
    },
    {
      "cell_type": "code",
      "execution_count": null,
      "metadata": {
        "id": "ZiG8jz1Ja0Ct"
      },
      "outputs": [],
      "source": [
        "a = 5\n",
        "type(a)"
      ]
    },
    {
      "cell_type": "code",
      "execution_count": null,
      "metadata": {
        "id": "oHsfOhboa0Ct"
      },
      "outputs": [],
      "source": [
        "a = input(\"Saisir un nombre : \")\n",
        "type(a)"
      ]
    },
    {
      "cell_type": "code",
      "execution_count": null,
      "metadata": {
        "id": "zlgQRvd_a0Ct"
      },
      "outputs": [],
      "source": [
        "print(3 * a)"
      ]
    },
    {
      "cell_type": "markdown",
      "metadata": {
        "id": "RTLj5d3Ka0Ct"
      },
      "source": [
        "> Ecrire ici vos commentaires pour garder une trace de ce que vous apprennez."
      ]
    },
    {
      "cell_type": "markdown",
      "metadata": {
        "id": "kKmB5UCKa0Cu"
      },
      "source": [
        "Les **types principaux** que nous utiliserons cette année sont:\n",
        "* les **entiers** : type `int`;\n",
        "* les **flottants** (approximation des nombres réels par des décimaux) : type `float`;\n",
        "* les **caractères** (lettres) : type `char`;\n",
        "* les **booléens** (`True` ou `False`) : type `bool`;\n",
        "* les **listes** (un certain type de tableau), que l'on verra ultérieurement : type `list`;\n",
        "* les **chaines de caractères** (mots, phrases), qui sont des listes de lettres : type `str`. Elles sont entre guillemets simples `'chaine'` ou doubles `\"chaine\"`.\n",
        "\n",
        "On peut changer le type de certaines variables en cas de besoin :  \n",
        "* Comparez le code ci-dessous avec les précédents\n",
        "* puis enlevez le `int` devant le `input` et testez à nouveau"
      ]
    },
    {
      "cell_type": "code",
      "execution_count": null,
      "metadata": {
        "id": "7nuak4W1a0Cu"
      },
      "outputs": [],
      "source": [
        "a = int(input(\"Saisir un nombre : \"))\n",
        "print(type(a))\n",
        "print(3 * a)"
      ]
    },
    {
      "cell_type": "markdown",
      "metadata": {
        "id": "AN_aV_9La0Cu"
      },
      "source": [
        "> **Remarques :**\n",
        "- pour la numération, on utilise la notation anglo-saxonne, avec un point pour la virgule, et `e` pour \"10 puissance\". Par exemple 1.5e4 = 15000\n",
        "- des phénomènes étranges peuvent se passer avec les flottants."
      ]
    },
    {
      "cell_type": "code",
      "execution_count": null,
      "metadata": {
        "id": "zyiFsl00a0Cu"
      },
      "outputs": [],
      "source": [
        "nombre = 25.8\n",
        "print(nombre)"
      ]
    },
    {
      "cell_type": "code",
      "execution_count": null,
      "metadata": {
        "id": "9nQDJy3ca0Cu"
      },
      "outputs": [],
      "source": [
        "nombre = 25,8\n",
        "print(nombre)"
      ]
    },
    {
      "cell_type": "code",
      "execution_count": null,
      "metadata": {
        "id": "e-FFlFOEa0Cu"
      },
      "outputs": [],
      "source": [
        "nombre = 2.58e-1\n",
        "print(nombre)"
      ]
    },
    {
      "cell_type": "code",
      "execution_count": null,
      "metadata": {
        "id": "2hVKMlKwa0Cu"
      },
      "outputs": [],
      "source": [
        "nombre = 2.58e-21\n",
        "print(nombre)"
      ]
    },
    {
      "cell_type": "code",
      "execution_count": null,
      "metadata": {
        "id": "3YwU-QV7a0Cu"
      },
      "outputs": [],
      "source": [
        "0.1 + 0.1"
      ]
    },
    {
      "cell_type": "code",
      "execution_count": null,
      "metadata": {
        "id": "c6rEmmp0a0Cu"
      },
      "outputs": [],
      "source": [
        "0.1 + 0.1 + 0.1"
      ]
    },
    {
      "cell_type": "markdown",
      "source": [
        "</Br>\n",
        "</Br>\n"
      ],
      "metadata": {
        "id": "GX095G2HgY5B"
      }
    },
    {
      "cell_type": "markdown",
      "metadata": {
        "id": "c4Bg-zm-a0Cv"
      },
      "source": [
        "# Votre premier programme dans un notebook\n",
        "\n",
        "Ecrire un programme qui demande à un élève le nombre de journées entières travaillées par semaine et qui affiche le nombre de repas payés à la cantine sur l'année (il y a 36 semaines de travail théorique par an).\n",
        "\n",
        "> **Remarques :**\n",
        "- la première ligne du programme est essentielle (bonne pratique), en permettant de définir le codage des caractères utilisés\n",
        "- les lignes situées entre `'''` sont des commentaires.\n",
        "- on peut également saisir un commentaire sur une seule ligne avec le caractère `#`.\n",
        "- les commentaires ne sont pas interprétés par Python, mais restent essentiels pour faciliter la relecture et la [maintenabilité des programmes](https://fr.wikipedia.org/wiki/Maintenabilit%C3%A9).\n",
        "\n",
        "Si ce programme vous semble trop simple à mettre en oeuvre, sentez-vous libre d'aller plus loin en terme d'objectifs."
      ]
    },
    {
      "cell_type": "code",
      "execution_count": null,
      "metadata": {
        "id": "EtkVhJoDa0Cv"
      },
      "outputs": [],
      "source": [
        "# coding: utf-8\n",
        "'''\n",
        "@author : votre nom\n",
        "Programme permettant de demander à un élève le nombre de journées entières\n",
        "travaillées par semaine et qui affiche le nombre de trajets domicile-école ou école -domicile sur l'année\n",
        "(il y a 36 semaines de travail théorique par an)\n",
        "'''\n",
        "\n",
        "prenom = input(\"Saisir votre prenom : \")\n",
        "print(\"Bonjour\", prenom)\n",
        "\n",
        "# Autre commentaire, sur une seule ligne cette fois."
      ]
    },
    {
      "cell_type": "markdown",
      "metadata": {
        "id": "HHPaI_UWa0Cv"
      },
      "source": [
        "## Que retenir ?\n",
        "### À minima...\n",
        "\n",
        "- Les notebooks Jupyter servent de support de cours, d'activités, d'exercices et c'est une source de révision essentielle pour les évaluations.\n",
        "- Il faut donc personnaliser ces notebooks en les complétant et en les annotant de façon à les rendre les plus utiles pour vous.\n",
        "- Il faut sauvegarder son travail très régulièrement (CTRL + S)\n",
        "- Dans un notebook, l'édition de texte se fait grâce au langage Markdown.\n",
        "- Il existe des cellules de texte et des cellules de code.\n",
        "- On interprète une cellule de notebook à l'aide des touches __CTRL + ENTRÉE__.\n",
        "- Si le notebook ne répond plus [*], il faut redémarrer le noyau.\n",
        "- Il existe des bonnes pratiques de programmation qu'il faut apprendre à respecter.\n",
        "- Il existe des _types de données_ qu'il faut connaître : les entiers `int`, les flottants `float`, les caractères `char`, les chaînes de caractères `str`, les booléens `bool`, les listes `list`,...\n",
        "\n",
        "### Au mieux...\n",
        "\n",
        "- La combinaison de touches __MAJ + ENTRÉE__ permet d'interpréter une cellule puis de passer à la suivante.\n",
        "- Lorsqu'une cellule est sélectionnée (hors mode édition), on peut utiliser les touches :\n",
        "  - A pour insérer une cellule avant.\n",
        "  - B pour insérer une cellule après.\n",
        "  - M pour faire de la cellule actuelle une cellule de texte.\n",
        "  - Y pour faire de la cellule actuelle une cellule de code.\n",
        "  - X pour supprimer une cellule.\n",
        "- Parmi les bonnes pratiques de programmation (norme PEP-8), il faut :\n",
        "  - insérer des espaces autour des opérateurs et après les virgules.\n",
        "  - commencer les noms de variables par une minuscule et éviter les accents.\n",
        "  - commenter son code (`# commentaire` ou `''' commentaire '''`)."
      ]
    },
    {
      "cell_type": "markdown",
      "metadata": {
        "id": "qvXPzGi4a0Cw"
      },
      "source": [
        "---\n",
        "[![Licence CC BY NC SA](https://licensebuttons.net/l/by-nc-sa/3.0/88x31.png \"licence Creative Commons CC BY-NC-SA\")](http://creativecommons.org/licenses/by-nc-sa/3.0/fr/)\n",
        "\n",
        "<p style=\"text-align: center;\">Auteur : Antoine Le Gouëfflec, Collège Stanislas - Montréal, QC</p>\n",
        "\n",
        "<p style=\"text-align: center;\">D'après un document partagé en licence CC BY-NC-SA par David Landry, Lycée Clemenceau - Nantes, lui même basé sur un document partagé par <a  href=http://www.maths-info-lycee.fr/nsi_1ere.html>Frederic Mandon</a></p>\n"
      ]
    }
  ],
  "metadata": {
    "kernelspec": {
      "display_name": "Python 3",
      "language": "python",
      "name": "python3"
    },
    "language_info": {
      "codemirror_mode": {
        "name": "ipython",
        "version": 3
      },
      "file_extension": ".py",
      "mimetype": "text/x-python",
      "name": "python",
      "nbconvert_exporter": "python",
      "pygments_lexer": "ipython3",
      "version": "3.8.3"
    },
    "colab": {
      "provenance": []
    }
  },
  "nbformat": 4,
  "nbformat_minor": 0
}